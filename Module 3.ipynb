{
 "cells": [
  {
   "cell_type": "code",
   "execution_count": 2,
   "id": "33a82851",
   "metadata": {},
   "outputs": [],
   "source": [
    "list1 = [23,4,567]\n",
    "list1.clear() #inline change, removes all the elements"
   ]
  },
  {
   "cell_type": "code",
   "execution_count": 3,
   "id": "2ebf4426",
   "metadata": {},
   "outputs": [
    {
     "data": {
      "text/plain": [
       "[]"
      ]
     },
     "execution_count": 3,
     "metadata": {},
     "output_type": "execute_result"
    }
   ],
   "source": [
    "list1"
   ]
  },
  {
   "cell_type": "code",
   "execution_count": 9,
   "id": "f4f45267",
   "metadata": {},
   "outputs": [],
   "source": [
    "list1 = [23,4,567]\n",
    "u = list1.copy() #returns a copy of the list"
   ]
  },
  {
   "cell_type": "code",
   "execution_count": 7,
   "id": "e7e25780",
   "metadata": {},
   "outputs": [
    {
     "data": {
      "text/plain": [
       "[23, 4, 567]"
      ]
     },
     "execution_count": 7,
     "metadata": {},
     "output_type": "execute_result"
    }
   ],
   "source": [
    "u"
   ]
  },
  {
   "cell_type": "code",
   "execution_count": 16,
   "id": "559a6188",
   "metadata": {},
   "outputs": [
    {
     "data": {
      "text/plain": [
       "1"
      ]
     },
     "execution_count": 16,
     "metadata": {},
     "output_type": "execute_result"
    }
   ],
   "source": [
    "list1 = [23,'4',547,4,4,23,4,3,334,54,56,6,5,4,34,3,4,4]\n",
    "list1.count('4') # counts the element in the list\n",
    "#returns the occurence of the given element"
   ]
  },
  {
   "cell_type": "code",
   "execution_count": 27,
   "id": "9cd5eef6",
   "metadata": {},
   "outputs": [
    {
     "name": "stdout",
     "output_type": "stream",
     "text": [
      "[23, 4, 567, 'l', 'i', 'o', 'n']\n"
     ]
    }
   ],
   "source": [
    "list1 = [23,4,567]\n",
    "#Syntax:\n",
    "# list1.extend(Iterable) #iterables' elements will go ONE BY ONE\n",
    "# list1.append(Element) as an SINGLE ELEMENT\n",
    "list1.extend('lion') #Inline change\n",
    "print(list1)"
   ]
  },
  {
   "cell_type": "code",
   "execution_count": 32,
   "id": "e1abdc41",
   "metadata": {},
   "outputs": [],
   "source": [
    "list3 = [3,4,5]\n",
    "list3.extend(list1)"
   ]
  },
  {
   "cell_type": "code",
   "execution_count": 34,
   "id": "7752c0f4",
   "metadata": {},
   "outputs": [
    {
     "data": {
      "text/plain": [
       "[3, 4, 5, 23, 4, 567, 'l', 'i', 'o', 'n']"
      ]
     },
     "execution_count": 34,
     "metadata": {},
     "output_type": "execute_result"
    }
   ],
   "source": [
    "(list3)"
   ]
  },
  {
   "cell_type": "code",
   "execution_count": 43,
   "id": "f5c48dea",
   "metadata": {},
   "outputs": [
    {
     "data": {
      "text/plain": [
       "4"
      ]
     },
     "execution_count": 43,
     "metadata": {},
     "output_type": "execute_result"
    }
   ],
   "source": [
    "list3 = [34,5,34,6,7]\n",
    "list3.index(7) #returns the index value of given element\n",
    "# if the given element is not present in the list then it will raise an ERROR"
   ]
  },
  {
   "cell_type": "code",
   "execution_count": 44,
   "id": "8c99d891",
   "metadata": {},
   "outputs": [],
   "source": [
    "list3 = [34,5,34,6,7]\n",
    "#Syntax:\n",
    "# list.insert(index, element)\n",
    "list3.insert(2, 'qwerty') #Inline change"
   ]
  },
  {
   "cell_type": "code",
   "execution_count": 45,
   "id": "40da13f1",
   "metadata": {},
   "outputs": [
    {
     "name": "stdout",
     "output_type": "stream",
     "text": [
      "[34, 5, 'qwerty', 34, 6, 7]\n"
     ]
    }
   ],
   "source": [
    "print(list3)"
   ]
  },
  {
   "cell_type": "code",
   "execution_count": 53,
   "id": "60f2a1c5",
   "metadata": {},
   "outputs": [
    {
     "data": {
      "text/plain": [
       "6"
      ]
     },
     "execution_count": 53,
     "metadata": {},
     "output_type": "execute_result"
    }
   ],
   "source": [
    "list3 = [34,5,34,6,7]\n",
    "#Syntax:\n",
    "# list.pop(index)#removes the element on the given index and returns it\n",
    "list3.pop(-2) #by default removes the LAST ELEMENT and returns it"
   ]
  },
  {
   "cell_type": "code",
   "execution_count": 54,
   "id": "4066ecd7",
   "metadata": {},
   "outputs": [
    {
     "name": "stdout",
     "output_type": "stream",
     "text": [
      "[34, 5, 34, 7]\n"
     ]
    }
   ],
   "source": [
    "print(list3)"
   ]
  },
  {
   "cell_type": "code",
   "execution_count": 63,
   "id": "9224e00b",
   "metadata": {},
   "outputs": [
    {
     "name": "stdout",
     "output_type": "stream",
     "text": [
      "[5, 34, 6, 7]\n"
     ]
    }
   ],
   "source": [
    "list3 = [34,5,34,6,7]\n",
    "#Syntax:\n",
    "# list.remove(element) #removes the given element\n",
    "# first occurence from left to right\n",
    "list3.remove(34) \n",
    "print(list3)"
   ]
  },
  {
   "cell_type": "code",
   "execution_count": 65,
   "id": "d7dd1d34",
   "metadata": {},
   "outputs": [
    {
     "name": "stdout",
     "output_type": "stream",
     "text": [
      "[7, 6, 34, 5, 34]\n"
     ]
    }
   ],
   "source": [
    "list3 = [34,5,34,6,7]\n",
    "list3.reverse() #Inline change, reverses THE ORDER of the list\n",
    "print(list3)"
   ]
  },
  {
   "cell_type": "code",
   "execution_count": 68,
   "id": "514bddc3",
   "metadata": {},
   "outputs": [
    {
     "name": "stdout",
     "output_type": "stream",
     "text": [
      "[5, 6, 7, 34, 34]\n"
     ]
    }
   ],
   "source": [
    "list3 = [34,5,34,6,7]\n",
    "list3.sort() #Inline change,By Default sorts in ascending order\n",
    "print(list3)"
   ]
  },
  {
   "cell_type": "code",
   "execution_count": 70,
   "id": "3a49fe0d",
   "metadata": {},
   "outputs": [
    {
     "name": "stdout",
     "output_type": "stream",
     "text": [
      "[34, 7, 6, 5, 3.4]\n"
     ]
    }
   ],
   "source": [
    "list3 = [3.4,5,34,6,7] #To be remembered\n",
    "list3.sort(reverse = True) #sorts in descending order\n",
    "print(list3)"
   ]
  },
  {
   "cell_type": "code",
   "execution_count": null,
   "id": "c0f8b2a5",
   "metadata": {},
   "outputs": [],
   "source": [
    "# Tuple\n",
    "# Ordered, Indexed, Immutable, Allows all datatypes, duplicate elements are allowed\n"
   ]
  },
  {
   "cell_type": "code",
   "execution_count": 71,
   "id": "952dc647",
   "metadata": {},
   "outputs": [
    {
     "name": "stdout",
     "output_type": "stream",
     "text": [
      "3.46\n",
      "56\n",
      "67\n",
      "7\n",
      "7\n",
      "7\n"
     ]
    }
   ],
   "source": [
    "t1 = (3.46,56,67,7,7,7)\n",
    "for i in t1:\n",
    "    print(i)"
   ]
  },
  {
   "cell_type": "code",
   "execution_count": 76,
   "id": "df821b9f",
   "metadata": {},
   "outputs": [
    {
     "name": "stdout",
     "output_type": "stream",
     "text": [
      "(34, 5, 3.4, 'lion', True, [4, 5], (5, 7, 8), {56, 4}, {'a': 34})\n"
     ]
    }
   ],
   "source": [
    "t3 = (34,5,3.4,'lion', True, [4,5], (5,7,8), {4,56}, {'a':34})\n",
    "print(t3)\n"
   ]
  },
  {
   "cell_type": "code",
   "execution_count": 87,
   "id": "13e50f05",
   "metadata": {},
   "outputs": [
    {
     "ename": "TypeError",
     "evalue": "'tuple' object does not support item assignment",
     "output_type": "error",
     "traceback": [
      "\u001b[0;31m---------------------------------------------------------------------------\u001b[0m",
      "\u001b[0;31mTypeError\u001b[0m                                 Traceback (most recent call last)",
      "Cell \u001b[0;32mIn[87], line 2\u001b[0m\n\u001b[1;32m      1\u001b[0m l1 \u001b[38;5;241m=\u001b[39m (\u001b[38;5;241m34\u001b[39m,\u001b[38;5;241m57\u001b[39m,\u001b[38;5;241m78\u001b[39m)\n\u001b[0;32m----> 2\u001b[0m \u001b[43ml1\u001b[49m\u001b[43m[\u001b[49m\u001b[38;5;241;43m1\u001b[39;49m\u001b[43m]\u001b[49m \u001b[38;5;241m=\u001b[39m \u001b[38;5;241m90\u001b[39m\n",
      "\u001b[0;31mTypeError\u001b[0m: 'tuple' object does not support item assignment"
     ]
    }
   ],
   "source": [
    "l1 = (34,57,78)\n",
    "l1[1] = 90 # you can NOT CHANGE"
   ]
  },
  {
   "cell_type": "code",
   "execution_count": 88,
   "id": "3d8ea7a2",
   "metadata": {},
   "outputs": [
    {
     "data": {
      "text/plain": [
       "(34, 57, 78, 34, 57)"
      ]
     },
     "execution_count": 88,
     "metadata": {},
     "output_type": "execute_result"
    }
   ],
   "source": [
    "l1 = (34,57,78)\n",
    "t5 = (34,57)\n",
    "l1 + t5"
   ]
  },
  {
   "cell_type": "code",
   "execution_count": 90,
   "id": "b555e6a7",
   "metadata": {},
   "outputs": [
    {
     "data": {
      "text/plain": [
       "(78, 5)"
      ]
     },
     "execution_count": 90,
     "metadata": {},
     "output_type": "execute_result"
    }
   ],
   "source": [
    "l1 = (34,57,78,4,5,6,67)\n",
    "l1[2:-1:2]"
   ]
  },
  {
   "cell_type": "code",
   "execution_count": 99,
   "id": "a894c8bf",
   "metadata": {},
   "outputs": [
    {
     "data": {
      "text/plain": [
       "tuple"
      ]
     },
     "execution_count": 99,
     "metadata": {},
     "output_type": "execute_result"
    }
   ],
   "source": [
    "# IF YOU HAVE ONLY ONE ELEMENT IN TUPLE THEN WE MUST PUT comma AT THE END\n",
    "y1 = (3.4,)\n",
    "type(y1)"
   ]
  },
  {
   "cell_type": "code",
   "execution_count": 101,
   "id": "4cb8cff3",
   "metadata": {},
   "outputs": [
    {
     "data": {
      "text/plain": [
       "2"
      ]
     },
     "execution_count": 101,
     "metadata": {},
     "output_type": "execute_result"
    }
   ],
   "source": [
    "y1 = (3.4, 3,4,56,3)\n",
    "y1.count(3)"
   ]
  },
  {
   "cell_type": "code",
   "execution_count": 105,
   "id": "39d432e2",
   "metadata": {},
   "outputs": [
    {
     "data": {
      "text/plain": [
       "4"
      ]
     },
     "execution_count": 105,
     "metadata": {},
     "output_type": "execute_result"
    }
   ],
   "source": [
    "y1 = (3.4, 3,4,56,3)\n",
    "y1.index(3,2)"
   ]
  },
  {
   "cell_type": "code",
   "execution_count": 111,
   "id": "fc192aef",
   "metadata": {},
   "outputs": [
    {
     "name": "stdout",
     "output_type": "stream",
     "text": [
      "[2, 4, 6, 8, 10, 12, 14, 16, 18, 20]\n"
     ]
    }
   ],
   "source": [
    "#list comprehension\n",
    "\n",
    "l1 = []\n",
    "for i in range(2,21,2): #i = 4\n",
    "    l1.append(i) \n",
    "print(l1)"
   ]
  },
  {
   "cell_type": "code",
   "execution_count": 113,
   "id": "c0a611fe",
   "metadata": {},
   "outputs": [
    {
     "name": "stdout",
     "output_type": "stream",
     "text": [
      "[13, 26, 39, 52, 65, 78, 91, 104, 117, 130]\n"
     ]
    }
   ],
   "source": [
    "u23 = [i for i in range(13, 131, 13)]\n",
    "print(u23)"
   ]
  },
  {
   "cell_type": "code",
   "execution_count": 115,
   "id": "abca0b28",
   "metadata": {},
   "outputs": [
    {
     "name": "stdout",
     "output_type": "stream",
     "text": [
      "success\n"
     ]
    }
   ],
   "source": [
    "# One Liner if\n",
    "a = 2\n",
    "if a == 2:\n",
    "    print('success')\n",
    "    \n",
    "else:\n",
    "    print('faillll')"
   ]
  },
  {
   "cell_type": "code",
   "execution_count": null,
   "id": "84611a0a",
   "metadata": {},
   "outputs": [],
   "source": [
    "#Syntax:\n",
    "# IF BOC if condition else ELSE BOC"
   ]
  },
  {
   "cell_type": "code",
   "execution_count": 117,
   "id": "bcc26ad3",
   "metadata": {},
   "outputs": [
    {
     "name": "stdout",
     "output_type": "stream",
     "text": [
      "success\n"
     ]
    }
   ],
   "source": [
    "a = 2\n",
    "print('success') if a == 2 else print('faillll')"
   ]
  },
  {
   "cell_type": "code",
   "execution_count": null,
   "id": "caaf178e",
   "metadata": {},
   "outputs": [],
   "source": []
  },
  {
   "cell_type": "code",
   "execution_count": null,
   "id": "7d1240bb",
   "metadata": {},
   "outputs": [],
   "source": []
  },
  {
   "cell_type": "code",
   "execution_count": null,
   "id": "dbc3a918",
   "metadata": {},
   "outputs": [],
   "source": []
  },
  {
   "cell_type": "code",
   "execution_count": null,
   "id": "f4c86eff",
   "metadata": {},
   "outputs": [],
   "source": [
    "# SET\n",
    "#characteristics\n",
    "# Mutable, UNORDERED, Unindexed,\n",
    "# Allows ONLY Immutable datatype element,\n",
    "# Does not ALLOW duplicate ELEMENTS"
   ]
  },
  {
   "cell_type": "code",
   "execution_count": 4,
   "id": "3014a711",
   "metadata": {},
   "outputs": [
    {
     "name": "stdout",
     "output_type": "stream",
     "text": [
      "{4, 23, 54, 7}\n"
     ]
    }
   ],
   "source": [
    "s1 = {23,4,54,7}\n",
    "len(s1)\n",
    "print(s1)"
   ]
  },
  {
   "cell_type": "code",
   "execution_count": 5,
   "id": "431508d3",
   "metadata": {},
   "outputs": [
    {
     "ename": "TypeError",
     "evalue": "'set' object is not subscriptable",
     "output_type": "error",
     "traceback": [
      "\u001b[0;31m---------------------------------------------------------------------------\u001b[0m",
      "\u001b[0;31mTypeError\u001b[0m                                 Traceback (most recent call last)",
      "Cell \u001b[0;32mIn[5], line 1\u001b[0m\n\u001b[0;32m----> 1\u001b[0m \u001b[43ms1\u001b[49m\u001b[43m[\u001b[49m\u001b[38;5;241;43m0\u001b[39;49m\u001b[43m]\u001b[49m\n",
      "\u001b[0;31mTypeError\u001b[0m: 'set' object is not subscriptable"
     ]
    }
   ],
   "source": [
    "s1[0]"
   ]
  },
  {
   "cell_type": "code",
   "execution_count": 3,
   "id": "06eca219",
   "metadata": {},
   "outputs": [
    {
     "name": "stdout",
     "output_type": "stream",
     "text": [
      "4\n",
      "23\n",
      "54\n",
      "7\n"
     ]
    }
   ],
   "source": [
    "for i in s1:\n",
    "    print(i)"
   ]
  },
  {
   "cell_type": "code",
   "execution_count": 9,
   "id": "354ce327",
   "metadata": {},
   "outputs": [
    {
     "name": "stdout",
     "output_type": "stream",
     "text": [
      "{False, True, 34, (2, 4), 'qwerty', 5.6}\n"
     ]
    }
   ],
   "source": [
    "s4 = {34, 5.6, True, False, 'qwerty', (2,4)}\n",
    "print(s4)"
   ]
  },
  {
   "cell_type": "code",
   "execution_count": 11,
   "id": "8754255c",
   "metadata": {},
   "outputs": [
    {
     "name": "stdout",
     "output_type": "stream",
     "text": [
      "{True, 34, (2, 4), 'qwerty', 5.6}\n"
     ]
    }
   ],
   "source": [
    "s4 = {34, 5.6, True, 5.6, 5.6, 'qwerty', (2,4), (2,4), 34}\n",
    "len(s4)\n",
    "print(s4)"
   ]
  },
  {
   "cell_type": "code",
   "execution_count": 12,
   "id": "b760d141",
   "metadata": {},
   "outputs": [
    {
     "name": "stdout",
     "output_type": "stream",
     "text": [
      "True\n",
      "34\n",
      "(2, 4)\n",
      "qwerty\n",
      "5.6\n"
     ]
    }
   ],
   "source": [
    "for i in s4:\n",
    "    print(i)"
   ]
  },
  {
   "cell_type": "code",
   "execution_count": 15,
   "id": "2bfb6db2",
   "metadata": {},
   "outputs": [
    {
     "name": "stdout",
     "output_type": "stream",
     "text": [
      "(3, 4, ['a', 'f'])\n"
     ]
    }
   ],
   "source": [
    "t1 = (3,4, ['a', 'f'])\n",
    "print(t1)"
   ]
  },
  {
   "cell_type": "code",
   "execution_count": 14,
   "id": "a194d64d",
   "metadata": {},
   "outputs": [
    {
     "ename": "TypeError",
     "evalue": "unhashable type: 'list'",
     "output_type": "error",
     "traceback": [
      "\u001b[0;31m---------------------------------------------------------------------------\u001b[0m",
      "\u001b[0;31mTypeError\u001b[0m                                 Traceback (most recent call last)",
      "Cell \u001b[0;32mIn[14], line 1\u001b[0m\n\u001b[0;32m----> 1\u001b[0m s1 \u001b[38;5;241m=\u001b[39m {\u001b[38;5;241m23\u001b[39m,\u001b[38;5;241m45\u001b[39m,\u001b[38;5;241m67\u001b[39m,(\u001b[38;5;241m3\u001b[39m,\u001b[38;5;241m4\u001b[39m, [\u001b[38;5;124m'\u001b[39m\u001b[38;5;124ma\u001b[39m\u001b[38;5;124m'\u001b[39m, \u001b[38;5;124m'\u001b[39m\u001b[38;5;124mf\u001b[39m\u001b[38;5;124m'\u001b[39m])}\n\u001b[1;32m      2\u001b[0m \u001b[38;5;28mprint\u001b[39m(s1)\n",
      "\u001b[0;31mTypeError\u001b[0m: unhashable type: 'list'"
     ]
    }
   ],
   "source": [
    "s1 = {23,45,67,(3,4, ['a', 'f'])}\n",
    "print(s1)"
   ]
  },
  {
   "cell_type": "code",
   "execution_count": 20,
   "id": "56c7f079",
   "metadata": {},
   "outputs": [
    {
     "data": {
      "text/plain": [
       "[23, 8989, 67]"
      ]
     },
     "execution_count": 20,
     "metadata": {},
     "output_type": "execute_result"
    }
   ],
   "source": [
    "s3 = [23,4,67]\n",
    "s3[1] = 8989\n",
    "s3"
   ]
  },
  {
   "cell_type": "code",
   "execution_count": 36,
   "id": "8b61775e",
   "metadata": {},
   "outputs": [
    {
     "name": "stdout",
     "output_type": "stream",
     "text": [
      "{67, 8989, 23}\n"
     ]
    }
   ],
   "source": [
    "s3 = {23,4,67}\n",
    "s3.discard(4) #Inline change, removes the given element\n",
    "s3.add(8989) #Inline change, adds the element in the set\n",
    "print(s3)"
   ]
  },
  {
   "cell_type": "code",
   "execution_count": 47,
   "id": "fe0bae75",
   "metadata": {},
   "outputs": [
    {
     "name": "stdout",
     "output_type": "stream",
     "text": [
      "{True, 3.4, 23}\n"
     ]
    }
   ],
   "source": [
    "s3 = {23,3.4, True}\n",
    "# s3.remove('otis') #removes the given element, raises an error if element is not present\n",
    "# s3.discard('otis') #removes the given element, it DOES NOT RAISE an error upon element not found situation\n",
    "print(s3)"
   ]
  },
  {
   "cell_type": "code",
   "execution_count": 64,
   "id": "b37fe370",
   "metadata": {},
   "outputs": [
    {
     "name": "stdout",
     "output_type": "stream",
     "text": [
      "set()\n"
     ]
    }
   ],
   "source": [
    "s3 = {23,3.4, True}\n",
    "s3.clear() #Inline change, removes all the elements of the set\n",
    "print(s3)"
   ]
  },
  {
   "cell_type": "code",
   "execution_count": 66,
   "id": "55d40929",
   "metadata": {},
   "outputs": [],
   "source": [
    "s3 = {23,3.4, True}\n",
    "k1 = s3.copy() #returns a copy of the set"
   ]
  },
  {
   "cell_type": "code",
   "execution_count": 75,
   "id": "1380e585",
   "metadata": {},
   "outputs": [
    {
     "name": "stdout",
     "output_type": "stream",
     "text": [
      "{True, 3.4, 'a', 'b', 23, 'c'}\n"
     ]
    }
   ],
   "source": [
    "s3 = {23,3.4, True}\n",
    "# s3.add(('a', 'b', 'c')) #adds as a SINGLE ELEMENT\n",
    "# s3.update(('a', 'b', 'c'))\n",
    "# len(s3)\n",
    "print(s3)"
   ]
  },
  {
   "cell_type": "code",
   "execution_count": 83,
   "id": "74bb583a",
   "metadata": {},
   "outputs": [
    {
     "name": "stdout",
     "output_type": "stream",
     "text": [
      "{True, 3.4, 'rt', 'za', (4, 5), 23}\n"
     ]
    }
   ],
   "source": [
    "s3 = {23,3.4, True}\n",
    "#Syntax:\n",
    "# s3.update(Iterable)\n",
    "s3.update(['za',(4,5), 'rt']) #adds the elements one by one of GIVEN ITERABLE\n",
    "print(s3)"
   ]
  },
  {
   "cell_type": "code",
   "execution_count": 89,
   "id": "21fa2e37",
   "metadata": {},
   "outputs": [
    {
     "data": {
      "text/plain": [
       "True"
      ]
     },
     "execution_count": 89,
     "metadata": {},
     "output_type": "execute_result"
    }
   ],
   "source": [
    "s3 = {23,3.4, True,45,6.7,89}\n",
    "s3.pop() #removes the last element"
   ]
  },
  {
   "cell_type": "code",
   "execution_count": 87,
   "id": "7e64fee7",
   "metadata": {},
   "outputs": [
    {
     "data": {
      "text/plain": [
       "{3.4, 6.7, 23, 45, 89}"
      ]
     },
     "execution_count": 87,
     "metadata": {},
     "output_type": "execute_result"
    }
   ],
   "source": [
    "s3"
   ]
  },
  {
   "cell_type": "code",
   "execution_count": 106,
   "id": "94f83a14",
   "metadata": {},
   "outputs": [
    {
     "data": {
      "text/plain": [
       "{True, 6.7, 45, 89}"
      ]
     },
     "execution_count": 106,
     "metadata": {},
     "output_type": "execute_result"
    }
   ],
   "source": [
    "A = {23,3.4, True,45,6.7,89}\n",
    "B = {23, 4, 3.4}\n",
    "A.difference(B) #A - B # returns a new set containing the result"
   ]
  },
  {
   "cell_type": "code",
   "execution_count": 101,
   "id": "70c3d334",
   "metadata": {},
   "outputs": [
    {
     "name": "stdout",
     "output_type": "stream",
     "text": [
      "{3.4, 4, 23}\n"
     ]
    }
   ],
   "source": [
    "A.difference_update(B) #Inline change, (A-B)\n",
    "print(B)"
   ]
  },
  {
   "cell_type": "code",
   "execution_count": 113,
   "id": "60d9a4e9",
   "metadata": {},
   "outputs": [
    {
     "data": {
      "text/plain": [
       "{3}"
      ]
     },
     "execution_count": 113,
     "metadata": {},
     "output_type": "execute_result"
    }
   ],
   "source": [
    "A = {2,3,4}\n",
    "B = {3,5,6}\n",
    "A.intersection(B) #returns a NEW set containing common elements of both the sets"
   ]
  },
  {
   "cell_type": "code",
   "execution_count": 110,
   "id": "6b0283a9",
   "metadata": {},
   "outputs": [],
   "source": [
    "B.intersection_update(A) #Inline change"
   ]
  },
  {
   "cell_type": "code",
   "execution_count": 111,
   "id": "b2fb97f6",
   "metadata": {},
   "outputs": [
    {
     "name": "stdout",
     "output_type": "stream",
     "text": [
      "{3}\n"
     ]
    }
   ],
   "source": [
    "print(B)"
   ]
  },
  {
   "cell_type": "code",
   "execution_count": 114,
   "id": "6d703173",
   "metadata": {},
   "outputs": [
    {
     "data": {
      "text/plain": [
       "{2, 4, 5, 6}"
      ]
     },
     "execution_count": 114,
     "metadata": {},
     "output_type": "execute_result"
    }
   ],
   "source": [
    "A = {2,3,4}\n",
    "B = {3,5,6}\n",
    "A.symmetric_difference(B)"
   ]
  },
  {
   "cell_type": "code",
   "execution_count": 121,
   "id": "0daeee04",
   "metadata": {},
   "outputs": [
    {
     "name": "stdout",
     "output_type": "stream",
     "text": [
      "{2, 4, 6, 5}\n"
     ]
    }
   ],
   "source": [
    "A.symmetric_difference_update(B) #Inline change\n",
    "print(A)"
   ]
  },
  {
   "cell_type": "code",
   "execution_count": 122,
   "id": "db83d5d4",
   "metadata": {},
   "outputs": [
    {
     "data": {
      "text/plain": [
       "{2, 3, 4, 5, 6}"
      ]
     },
     "execution_count": 122,
     "metadata": {},
     "output_type": "execute_result"
    }
   ],
   "source": [
    "A = {2,3,4}\n",
    "B = {3,5,6}\n",
    "A.union(B) #returns a new set containing all the elements of the both sets"
   ]
  },
  {
   "cell_type": "code",
   "execution_count": 124,
   "id": "f998a11f",
   "metadata": {},
   "outputs": [
    {
     "data": {
      "text/plain": [
       "True"
      ]
     },
     "execution_count": 124,
     "metadata": {},
     "output_type": "execute_result"
    }
   ],
   "source": [
    "A = {2,3.89,4}\n",
    "B = {3,5,6}\n",
    "#A is disjoint of B\n",
    "# A.isdisjoint(B) #returns True if both sets have unique elements,otherwise False\n",
    "\n"
   ]
  },
  {
   "cell_type": "code",
   "execution_count": 133,
   "id": "1753f506",
   "metadata": {},
   "outputs": [
    {
     "data": {
      "text/plain": [
       "True"
      ]
     },
     "execution_count": 133,
     "metadata": {},
     "output_type": "execute_result"
    }
   ],
   "source": [
    "A = {2,3,45,6}\n",
    "B = {3,45}\n",
    "# B.issubset(A) # if all the elements of B are present in A then it will return True\n",
    "A.issuperset(B) # if all the elements of B are present in A then it will return True"
   ]
  },
  {
   "cell_type": "code",
   "execution_count": null,
   "id": "d8cfe4f8",
   "metadata": {},
   "outputs": [],
   "source": []
  },
  {
   "cell_type": "code",
   "execution_count": null,
   "id": "1c273f2b",
   "metadata": {},
   "outputs": [],
   "source": []
  },
  {
   "cell_type": "code",
   "execution_count": null,
   "id": "057e2788",
   "metadata": {},
   "outputs": [],
   "source": []
  },
  {
   "cell_type": "code",
   "execution_count": null,
   "id": "71cf2a4e",
   "metadata": {},
   "outputs": [],
   "source": []
  },
  {
   "cell_type": "code",
   "execution_count": null,
   "id": "93d6f3ba",
   "metadata": {},
   "outputs": [],
   "source": []
  },
  {
   "cell_type": "code",
   "execution_count": null,
   "id": "675ec5dd",
   "metadata": {},
   "outputs": [],
   "source": [
    "empty dictionary - {}\n",
    "empty set - set()\n",
    "empty list - []\n",
    "empty tuple - ()\n",
    "empty string = \"\"\n"
   ]
  },
  {
   "cell_type": "code",
   "execution_count": 63,
   "id": "8e7fd8cc",
   "metadata": {},
   "outputs": [
    {
     "data": {
      "text/plain": [
       "0"
      ]
     },
     "execution_count": 63,
     "metadata": {},
     "output_type": "execute_result"
    }
   ],
   "source": [
    "l2 = set()\n",
    "len(l2)"
   ]
  },
  {
   "cell_type": "code",
   "execution_count": null,
   "id": "8c92248d",
   "metadata": {},
   "outputs": [],
   "source": []
  },
  {
   "cell_type": "code",
   "execution_count": null,
   "id": "70d3e418",
   "metadata": {},
   "outputs": [],
   "source": [
    "# Everything is an object in Python."
   ]
  },
  {
   "cell_type": "code",
   "execution_count": 10,
   "id": "21455f21",
   "metadata": {},
   "outputs": [
    {
     "data": {
      "text/plain": [
       "True"
      ]
     },
     "execution_count": 10,
     "metadata": {},
     "output_type": "execute_result"
    }
   ],
   "source": [
    "1 == 1.0 == True\n"
   ]
  },
  {
   "cell_type": "code",
   "execution_count": 15,
   "id": "be192a0b",
   "metadata": {},
   "outputs": [
    {
     "name": "stdout",
     "output_type": "stream",
     "text": [
      "{56, True, 3, 4}\n"
     ]
    }
   ],
   "source": [
    "s1 = {True,3,4,56,1}\n",
    "print(s1)"
   ]
  },
  {
   "cell_type": "code",
   "execution_count": null,
   "id": "3dd687f2",
   "metadata": {},
   "outputs": [],
   "source": [
    "# dictionary\n",
    "#characteristics\n",
    "# Mutable\n",
    "# Ordered, Keys can be ONLY IMMUTABLE datatypes,\n",
    "# values can be of ALL datatypes\n",
    "# keys MUST BE UNIQUE, values can be duplicate"
   ]
  },
  {
   "cell_type": "code",
   "execution_count": 19,
   "id": "fd056019",
   "metadata": {},
   "outputs": [
    {
     "name": "stdout",
     "output_type": "stream",
     "text": [
      "{12: 34, 34: 34, 4: 345}\n"
     ]
    }
   ],
   "source": [
    "# ek key value pair = ek element = ek item\n",
    "#key : value\n",
    "d1 = {12:34, 34:34, 4:345}\n",
    "print(d1)"
   ]
  },
  {
   "cell_type": "code",
   "execution_count": 25,
   "id": "94de715d",
   "metadata": {},
   "outputs": [
    {
     "name": "stdout",
     "output_type": "stream",
     "text": [
      "{'a': 23, True: 23, 34: 'DUPLICATE', 1.2: [3, 3, 4, 5], (3, 4, 5): {'a': 23}}\n"
     ]
    }
   ],
   "source": [
    "d3 = {'a':23, True:23, 34:'56', 1.2:[3,3,4,5], (3,4,5):{'a':23}, 34:'DUPLICATE'}\n",
    "print(d3)"
   ]
  },
  {
   "cell_type": "code",
   "execution_count": 28,
   "id": "b620a665",
   "metadata": {},
   "outputs": [
    {
     "name": "stdout",
     "output_type": "stream",
     "text": [
      "{'a': 1, 'b': 45, 'k': 45}\n"
     ]
    }
   ],
   "source": [
    "d1 = {'a':12, 'b':45, 'a':657, 'k':45, 'a':1}\n",
    "print(d1)"
   ]
  },
  {
   "cell_type": "code",
   "execution_count": 38,
   "id": "409b3aaf",
   "metadata": {},
   "outputs": [
    {
     "name": "stdout",
     "output_type": "stream",
     "text": [
      "a 1\n",
      "b 45\n",
      "k 45\n"
     ]
    }
   ],
   "source": [
    "d2 = {'a': 1, 'b': 45, 'k': 45}\n",
    "for i in d2:\n",
    "    print(i, d2[i])"
   ]
  },
  {
   "cell_type": "code",
   "execution_count": 31,
   "id": "bfb59eba",
   "metadata": {},
   "outputs": [],
   "source": [
    "# d2[key]\n",
    "y = d2['a']"
   ]
  },
  {
   "cell_type": "code",
   "execution_count": 32,
   "id": "475045ae",
   "metadata": {},
   "outputs": [
    {
     "name": "stdout",
     "output_type": "stream",
     "text": [
      "1\n"
     ]
    }
   ],
   "source": [
    "print(y)"
   ]
  },
  {
   "cell_type": "code",
   "execution_count": 33,
   "id": "eafb640d",
   "metadata": {},
   "outputs": [
    {
     "data": {
      "text/plain": [
       "45"
      ]
     },
     "execution_count": 33,
     "metadata": {},
     "output_type": "execute_result"
    }
   ],
   "source": [
    "d2['k']"
   ]
  },
  {
   "cell_type": "code",
   "execution_count": 35,
   "id": "ffc0b79c",
   "metadata": {},
   "outputs": [
    {
     "data": {
      "text/plain": [
       "{'a': 34, (3, 4, 5, 56): 12, 23: [3, 4]}"
      ]
     },
     "execution_count": 35,
     "metadata": {},
     "output_type": "execute_result"
    }
   ],
   "source": [
    "dict1 = {'a':34, (3,4,5,56):12, 23:[3,4]}\n",
    "dict1"
   ]
  },
  {
   "cell_type": "code",
   "execution_count": 36,
   "id": "df04cbf3",
   "metadata": {},
   "outputs": [
    {
     "data": {
      "text/plain": [
       "12"
      ]
     },
     "execution_count": 36,
     "metadata": {},
     "output_type": "execute_result"
    }
   ],
   "source": [
    "dict1[(3,4,5,56)]"
   ]
  },
  {
   "cell_type": "code",
   "execution_count": 37,
   "id": "49f20286",
   "metadata": {},
   "outputs": [
    {
     "ename": "KeyError",
     "evalue": "'mukesh'",
     "output_type": "error",
     "traceback": [
      "\u001b[0;31m---------------------------------------------------------------------------\u001b[0m",
      "\u001b[0;31mKeyError\u001b[0m                                  Traceback (most recent call last)",
      "Cell \u001b[0;32mIn[37], line 1\u001b[0m\n\u001b[0;32m----> 1\u001b[0m \u001b[43mdict1\u001b[49m\u001b[43m[\u001b[49m\u001b[38;5;124;43m'\u001b[39;49m\u001b[38;5;124;43mmukesh\u001b[39;49m\u001b[38;5;124;43m'\u001b[39;49m\u001b[43m]\u001b[49m\n",
      "\u001b[0;31mKeyError\u001b[0m: 'mukesh'"
     ]
    }
   ],
   "source": [
    "dict1['mukesh']"
   ]
  },
  {
   "cell_type": "code",
   "execution_count": 41,
   "id": "189e1853",
   "metadata": {},
   "outputs": [],
   "source": [
    "d2 = {'a': 1, 'b': 45, 'k': 45}\n",
    "d3 = {1:2, 2:3, 3:4}"
   ]
  },
  {
   "cell_type": "code",
   "execution_count": 48,
   "id": "55693d4e",
   "metadata": {},
   "outputs": [
    {
     "data": {
      "text/plain": [
       "'H'"
      ]
     },
     "execution_count": 48,
     "metadata": {},
     "output_type": "execute_result"
    }
   ],
   "source": [
    "d2 = {'a': 1, 'b': 'python', 'k': [3,(23,4.5,'THE'),5]}\n",
    "# d2['b'][-2]\n",
    "d2['k'][1][-1][1]"
   ]
  }
 ],
 "metadata": {
  "kernelspec": {
   "display_name": "Python 3 (ipykernel)",
   "language": "python",
   "name": "python3"
  },
  "language_info": {
   "codemirror_mode": {
    "name": "ipython",
    "version": 3
   },
   "file_extension": ".py",
   "mimetype": "text/x-python",
   "name": "python",
   "nbconvert_exporter": "python",
   "pygments_lexer": "ipython3",
   "version": "3.10.10"
  }
 },
 "nbformat": 4,
 "nbformat_minor": 5
}
